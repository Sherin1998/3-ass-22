{
 "cells": [
  {
   "cell_type": "code",
   "execution_count": 8,
   "metadata": {
    "colab": {
     "base_uri": "https://localhost:8080/"
    },
    "id": "vVXj7RlrGy0h",
    "outputId": "fb0133d4-dd84-4156-8e1a-c8a833ea3f7b"
   },
   "outputs": [
    {
     "name": "stdout",
     "output_type": "stream",
     "text": [
      "Low range1\n",
      "Upper range10\n",
      "divisor3\n",
      "[3, 6, 9]\n"
     ]
    }
   ],
   "source": [
    "#1\n",
    "\n",
    "def list_operation(x,y,z):\n",
    "    a=[]\n",
    "    for i in range(x,y+1):\n",
    "        if(i%z==0):\n",
    "            a.append(i)\n",
    "    return a\n",
    "\n",
    "\n",
    "x=int(input('Low range'))\n",
    "y=int(input('Upper range'))\n",
    "z=int(input('divisor'))\n",
    "print(list_operation(x,y,z))    #[7,9,2]"
   ]
  },
  {
   "cell_type": "code",
   "execution_count": 24,
   "metadata": {
    "colab": {
     "base_uri": "https://localhost:8080/"
    },
    "id": "3dJ8j5wuG8qK",
    "outputId": "667ecd61-7ba4-4789-f126-ae57d08ce442"
   },
   "outputs": [
    {
     "data": {
      "text/plain": [
       "False"
      ]
     },
     "execution_count": 24,
     "metadata": {},
     "output_type": "execute_result"
    }
   ],
   "source": [
    "#2\n",
    "def simon_says(l,m):\n",
    "    if(len(l)==len(m) and len(l)>=2):\n",
    "            if(l[:-1]==m[1:]):return True\n",
    "            else:return False\n",
    "    else: return 'Lists are not equal'\n",
    "        \n",
    "\n",
    "    \n",
    "    \n",
    "simon_says([1,2,3,4,5],[5,5,1,2,3])                                               #([1,2,3,4,5],[0,1,2,3,4]),   ([1,2],[5,1])"
   ]
  },
  {
   "cell_type": "code",
   "execution_count": 18,
   "metadata": {
    "id": "S9bWtOY3G-sh"
   },
   "outputs": [
    {
     "name": "stdout",
     "output_type": "stream",
     "text": [
      "CJMPRR\n"
     ]
    }
   ],
   "source": [
    "#3\n",
    "def society_name(a):\n",
    "    str=''\n",
    "    for i in a:\n",
    "        str+=i[0]\n",
    "    return sorted(str)\n",
    "        \n",
    "print(''.join(society_name(['Phoebe','Chandler','Rachel','Ross','Monica','Joey'])))\n",
    "#['Adam','Sarah','Maloclom'],['Harry','Newt','Luha','Cho']"
   ]
  },
  {
   "cell_type": "code",
   "execution_count": 30,
   "metadata": {},
   "outputs": [
    {
     "name": "stdout",
     "output_type": "stream",
     "text": [
      "Enter stringconSeCutive\n"
     ]
    },
    {
     "data": {
      "text/plain": [
       "False"
      ]
     },
     "execution_count": 30,
     "metadata": {},
     "output_type": "execute_result"
    }
   ],
   "source": [
    "#4\n",
    "def is_isogram(x):\n",
    "    s=x.upper()\n",
    "    for i in range(len(s)):\n",
    "        for j in range(i+1,len(s)):\n",
    "            if(s[i]==s[j]):\n",
    "                return False\n",
    "                break\n",
    "        else:return True\n",
    "        \n",
    "        \n",
    "    \n",
    "x=input('Enter string')\n",
    "is_isogram(x)"
   ]
  },
  {
   "cell_type": "code",
   "execution_count": 38,
   "metadata": {},
   "outputs": [
    {
     "data": {
      "text/plain": [
       "True"
      ]
     },
     "execution_count": 38,
     "metadata": {},
     "output_type": "execute_result"
    }
   ],
   "source": [
    "#5\n",
    "def is_in_order(l):\n",
    "    te=''.join(sorted(l))\n",
    "    if(l==te):return True\n",
    "    else:return False\n",
    "        \n",
    "is_in_order('xyzz')      #'edabit','1234'"
   ]
  },
  {
   "cell_type": "code",
   "execution_count": null,
   "metadata": {},
   "outputs": [],
   "source": []
  }
 ],
 "metadata": {
  "colab": {
   "name": "Untitled0.ipynb",
   "provenance": []
  },
  "kernelspec": {
   "display_name": "Python 3",
   "language": "python",
   "name": "python3"
  },
  "language_info": {
   "codemirror_mode": {
    "name": "ipython",
    "version": 3
   },
   "file_extension": ".py",
   "mimetype": "text/x-python",
   "name": "python",
   "nbconvert_exporter": "python",
   "pygments_lexer": "ipython3",
   "version": "3.8.3"
  }
 },
 "nbformat": 4,
 "nbformat_minor": 1
}
